{
 "cells": [
  {
   "cell_type": "markdown",
   "metadata": {},
   "source": [
    "# Opening data"
   ]
  },
  {
   "cell_type": "code",
   "execution_count": 2,
   "metadata": {
    "scrolled": true
   },
   "outputs": [],
   "source": [
    "import pandas as pd\n",
    "\n",
    "#Opening csv dataset\n",
    "df1 = pd.read_csv(\"AMDdata.csv\") #AMD\n",
    "df2 = pd.read_csv(\"SP500data.csv\") #S&P500\n",
    "\n",
    "#Choosing date and close column from data\n",
    "df1 = df1[[\"Date\", \"Close\"]]\n",
    "df2 = df2[[\"Date\", \"Close\"]]"
   ]
  },
  {
   "cell_type": "markdown",
   "metadata": {},
   "source": [
    "# Checking for null values"
   ]
  },
  {
   "cell_type": "code",
   "execution_count": 3,
   "metadata": {},
   "outputs": [
    {
     "name": "stdout",
     "output_type": "stream",
     "text": [
      "0\n",
      "0\n",
      "0\n",
      "0\n"
     ]
    }
   ],
   "source": [
    "print(df1[\"Date\"].isnull().sum()) #Summing up null values and counting it\n",
    "print(df1[\"Close\"].isnull().sum())\n",
    "print(df2[\"Date\"].isnull().sum())\n",
    "print(df2[\"Close\"].isnull().sum())\n",
    "#No null values"
   ]
  },
  {
   "cell_type": "markdown",
   "metadata": {},
   "source": [
    "No null values exist in dataset"
   ]
  },
  {
   "cell_type": "markdown",
   "metadata": {},
   "source": [
    "# Cleaning data"
   ]
  },
  {
   "cell_type": "markdown",
   "metadata": {},
   "source": [
    "### Formatting date"
   ]
  },
  {
   "cell_type": "code",
   "execution_count": 4,
   "metadata": {
    "scrolled": true
   },
   "outputs": [],
   "source": [
    "#format date to DD/MM/YYYY\n",
    "#AMD\n",
    "for i in range(len(df1[\"Date\"])):\n",
    "    current = df1[\"Date\"][i].split(\"/\") #splits original format into month, date, year\n",
    "    \n",
    "    if len(current[2]) == 2: #transform year into 4 digits\n",
    "        current[2] = \"20\" + current[2]\n",
    "        \n",
    "    if current[0][0] == \"0\": #removes trailing 0 for month\n",
    "        current[0] = current[0][1:]\n",
    "    \n",
    "    new_current = \"{}/{}/{}\".format(current[1], current[0], current[2]) #formats into DD/MM/YYYY\n",
    "    \n",
    "    df1[\"Date\"][i] = new_current #set to current row"
   ]
  },
  {
   "cell_type": "code",
   "execution_count": 5,
   "metadata": {
    "scrolled": true
   },
   "outputs": [],
   "source": [
    "#S&P 500\n",
    "for i in range(len(df2[\"Date\"])):\n",
    "    current = df2[\"Date\"][i].split(\"/\") #splits original format into date, month, year\n",
    "    \n",
    "    if current[1][0] == \"0\": #removes trailing 0 for month\n",
    "        current[1] = current[1][1:]\n",
    "    \n",
    "    if len(current[2]) <= 2: #transform year into 4 digits\n",
    "        current[2] = \"20\" + current[2]\n",
    "        \n",
    "    new_current = \"{}/{}/{}\".format(current[0], current[1], current[2]) #formats into DD/MM/YYYY\n",
    "         \n",
    "    df2.loc[i,\"Date\"] = new_current #set to current row"
   ]
  },
  {
   "cell_type": "markdown",
   "metadata": {},
   "source": [
    "### Reverse order of S&P500 dataset"
   ]
  },
  {
   "cell_type": "code",
   "execution_count": 6,
   "metadata": {},
   "outputs": [],
   "source": [
    "new_df2 = pd.DataFrame(columns = df2.columns)\n",
    "n = len(df2)-1 #backwards selector\n",
    "m = 0 #counting variable\n",
    "\n",
    "for i in range(len(df2)):\n",
    "    if n == 251: #skips 26/11/2019 in S&P500\n",
    "        n -= 1\n",
    "        continue\n",
    "        \n",
    "    new_df2.loc[m] = [df2[\"Date\"][n], df2[\"Close\"][n]] #reverse order of S&P500 \n",
    "    \n",
    "    n -= 1\n",
    "    m += 1\n",
    "\n",
    "df2 = new_df2 #set new_df2 into df2"
   ]
  },
  {
   "cell_type": "markdown",
   "metadata": {},
   "source": [
    "### Numeric casting for close column"
   ]
  },
  {
   "cell_type": "code",
   "execution_count": 7,
   "metadata": {},
   "outputs": [],
   "source": [
    "#AMD\n",
    "for i in range(len(df1[\"Close\"])):\n",
    "    current = df1[\"Close\"][i]\n",
    "    new_current = round(float(current[1:]), 2) #ignore $ sign and round to 2 d.p.\n",
    "    \n",
    "    df1[\"Close\"][i] = new_current\n",
    "    \n",
    "df1[\"Close\"] = df1[\"Close\"].astype(\"float64\") #set type of column as float"
   ]
  },
  {
   "cell_type": "code",
   "execution_count": 8,
   "metadata": {},
   "outputs": [],
   "source": [
    "#S&P\n",
    "for i in range(len(df2[\"Close\"])):\n",
    "    current = df2[\"Close\"][i]\n",
    "    \n",
    "    new_current = round(current, 2)#round to 2 d.p.\n",
    "    \n",
    "    df2.loc[i,\"Close\"] = new_current"
   ]
  },
  {
   "cell_type": "markdown",
   "metadata": {},
   "source": [
    "### Combine clean dataset"
   ]
  },
  {
   "cell_type": "code",
   "execution_count": 9,
   "metadata": {},
   "outputs": [],
   "source": [
    "clean = pd.concat([df1[\"Date\"], df1[\"Close\"], df2[\"Close\"]], axis=1) #join dates and close column of df1 and df2\n",
    "new_cols = [\"Date\", \"AMD Close\", \"S&P500 Close\"] #create new column names\n",
    "\n",
    "clean.columns = new_cols #set column names of clean dataset\n",
    "\n",
    "clean.to_csv(\"CleanedData.csv\", index = False) #create csv file of clean dataset"
   ]
  },
  {
   "cell_type": "markdown",
   "metadata": {},
   "source": [
    "# Opening clean dataset"
   ]
  },
  {
   "cell_type": "code",
   "execution_count": 10,
   "metadata": {},
   "outputs": [],
   "source": [
    "df = pd.read_csv(\"CleanedData.csv\") #opening clean dataset"
   ]
  },
  {
   "cell_type": "markdown",
   "metadata": {},
   "source": [
    "# Exploratory Analysis"
   ]
  },
  {
   "cell_type": "markdown",
   "metadata": {},
   "source": [
    "### Summary Statistics"
   ]
  },
  {
   "cell_type": "code",
   "execution_count": 11,
   "metadata": {},
   "outputs": [],
   "source": [
    "#AMD\n",
    "summary_statistics = []\n",
    "statistics_columns = [\"Mean\", \"Median\", \"Standard Deviation\", \n",
    "                      \"Sample Variance\",\"Kurtosis\", \n",
    "                      \"Skewness\", \"Range\", \"Minimum\", \n",
    "                      \"Maximum\", \"Sum\", \"Count\"] # measures of statistics\n",
    "for column in df:\n",
    "    if column == \"Date\": #skip date\n",
    "        continue\n",
    "    current = [] #list holding current statistics\n",
    "    \n",
    "    #measures key statistics of column\n",
    "    current.append(df[column].mean())\n",
    "    current.append(df[column].median())\n",
    "    current.append(df[column].std())\n",
    "    current.append(df[column].var())\n",
    "    current.append(df[column].kurt())\n",
    "    current.append(df[column].skew())\n",
    "    current.append(df[column].max() - df[column].min())\n",
    "    current.append(df[column].min())\n",
    "    current.append(df[column].max())\n",
    "    current.append(df[column].sum())\n",
    "    current.append(df[column].count())\n",
    "    \n",
    "    summary_statistics.append(current)#append statistics of column to list\n",
    "    \n",
    "statistics = pd.DataFrame()\n",
    "for i in range(len(summary_statistics)):\n",
    "    statistics[df.columns[i+1]] = summary_statistics[i]\n",
    "statistics.insert(0, \"Measure of statistics\", statistics_columns)\n",
    "statistics.set_index(\"Measure of statistics\", inplace = True)"
   ]
  },
  {
   "cell_type": "code",
   "execution_count": 12,
   "metadata": {},
   "outputs": [
    {
     "data": {
      "text/html": [
       "<div>\n",
       "<style scoped>\n",
       "    .dataframe tbody tr th:only-of-type {\n",
       "        vertical-align: middle;\n",
       "    }\n",
       "\n",
       "    .dataframe tbody tr th {\n",
       "        vertical-align: top;\n",
       "    }\n",
       "\n",
       "    .dataframe thead th {\n",
       "        text-align: right;\n",
       "    }\n",
       "</style>\n",
       "<table border=\"1\" class=\"dataframe\">\n",
       "  <thead>\n",
       "    <tr style=\"text-align: right;\">\n",
       "      <th></th>\n",
       "      <th>AMD Close</th>\n",
       "      <th>S&amp;P500 Close</th>\n",
       "    </tr>\n",
       "    <tr>\n",
       "      <th>Measure of statistics</th>\n",
       "      <th></th>\n",
       "      <th></th>\n",
       "    </tr>\n",
       "  </thead>\n",
       "  <tbody>\n",
       "    <tr>\n",
       "      <th>Mean</th>\n",
       "      <td>27.846375</td>\n",
       "      <td>2859.449044</td>\n",
       "    </tr>\n",
       "    <tr>\n",
       "      <th>Median</th>\n",
       "      <td>28.380000</td>\n",
       "      <td>2887.610000</td>\n",
       "    </tr>\n",
       "    <tr>\n",
       "      <th>Standard Deviation</th>\n",
       "      <td>5.187298</td>\n",
       "      <td>154.147725</td>\n",
       "    </tr>\n",
       "    <tr>\n",
       "      <th>Sample Variance</th>\n",
       "      <td>26.908058</td>\n",
       "      <td>23761.521124</td>\n",
       "    </tr>\n",
       "    <tr>\n",
       "      <th>Kurtosis</th>\n",
       "      <td>-0.359790</td>\n",
       "      <td>0.319557</td>\n",
       "    </tr>\n",
       "    <tr>\n",
       "      <th>Skewness</th>\n",
       "      <td>-0.057336</td>\n",
       "      <td>-0.783527</td>\n",
       "    </tr>\n",
       "    <tr>\n",
       "      <th>Range</th>\n",
       "      <td>24.640000</td>\n",
       "      <td>782.540000</td>\n",
       "    </tr>\n",
       "    <tr>\n",
       "      <th>Minimum</th>\n",
       "      <td>16.650000</td>\n",
       "      <td>2351.100000</td>\n",
       "    </tr>\n",
       "    <tr>\n",
       "      <th>Maximum</th>\n",
       "      <td>41.290000</td>\n",
       "      <td>3133.640000</td>\n",
       "    </tr>\n",
       "    <tr>\n",
       "      <th>Sum</th>\n",
       "      <td>6989.440000</td>\n",
       "      <td>717721.710000</td>\n",
       "    </tr>\n",
       "    <tr>\n",
       "      <th>Count</th>\n",
       "      <td>251.000000</td>\n",
       "      <td>251.000000</td>\n",
       "    </tr>\n",
       "  </tbody>\n",
       "</table>\n",
       "</div>"
      ],
      "text/plain": [
       "                         AMD Close   S&P500 Close\n",
       "Measure of statistics                            \n",
       "Mean                     27.846375    2859.449044\n",
       "Median                   28.380000    2887.610000\n",
       "Standard Deviation        5.187298     154.147725\n",
       "Sample Variance          26.908058   23761.521124\n",
       "Kurtosis                 -0.359790       0.319557\n",
       "Skewness                 -0.057336      -0.783527\n",
       "Range                    24.640000     782.540000\n",
       "Minimum                  16.650000    2351.100000\n",
       "Maximum                  41.290000    3133.640000\n",
       "Sum                    6989.440000  717721.710000\n",
       "Count                   251.000000     251.000000"
      ]
     },
     "execution_count": 12,
     "metadata": {},
     "output_type": "execute_result"
    }
   ],
   "source": [
    "statistics"
   ]
  },
  {
   "cell_type": "markdown",
   "metadata": {},
   "source": [
    "S&P500 has a relatively large standard deviation compared to AMD, suggesting that it is more volatile. This can be due to the companies inside S&P500, where sunset industries such as manufacturing and agriculture are more suspectible to economic downturn. \n",
    "\n",
    "In terms of skewness, AMD is approximately normally distributed, since skewness is close to 0. However, S&P500 is close to -1, indicating that it is left skewed. "
   ]
  },
  {
   "cell_type": "markdown",
   "metadata": {},
   "source": [
    "### Correlation and covariance"
   ]
  },
  {
   "cell_type": "code",
   "execution_count": 25,
   "metadata": {},
   "outputs": [
    {
     "name": "stdout",
     "output_type": "stream",
     "text": [
      "Correlaton matrix\n"
     ]
    },
    {
     "data": {
      "text/html": [
       "<div>\n",
       "<style scoped>\n",
       "    .dataframe tbody tr th:only-of-type {\n",
       "        vertical-align: middle;\n",
       "    }\n",
       "\n",
       "    .dataframe tbody tr th {\n",
       "        vertical-align: top;\n",
       "    }\n",
       "\n",
       "    .dataframe thead th {\n",
       "        text-align: right;\n",
       "    }\n",
       "</style>\n",
       "<table border=\"1\" class=\"dataframe\">\n",
       "  <thead>\n",
       "    <tr style=\"text-align: right;\">\n",
       "      <th></th>\n",
       "      <th>AMD Close</th>\n",
       "      <th>S&amp;P500 Close</th>\n",
       "    </tr>\n",
       "  </thead>\n",
       "  <tbody>\n",
       "    <tr>\n",
       "      <th>AMD Close</th>\n",
       "      <td>1.000000</td>\n",
       "      <td>0.931726</td>\n",
       "    </tr>\n",
       "    <tr>\n",
       "      <th>S&amp;P500 Close</th>\n",
       "      <td>0.931726</td>\n",
       "      <td>1.000000</td>\n",
       "    </tr>\n",
       "  </tbody>\n",
       "</table>\n",
       "</div>"
      ],
      "text/plain": [
       "              AMD Close  S&P500 Close\n",
       "AMD Close      1.000000      0.931726\n",
       "S&P500 Close   0.931726      1.000000"
      ]
     },
     "execution_count": 25,
     "metadata": {},
     "output_type": "execute_result"
    }
   ],
   "source": [
    "print(\"Correlaton matrix\")\n",
    "clean.corr()"
   ]
  },
  {
   "cell_type": "markdown",
   "metadata": {},
   "source": [
    "Correlation between AMD and S&P500 is relatively high at 0.93, suggesting that there is a strong linear relationship between both variables"
   ]
  },
  {
   "cell_type": "code",
   "execution_count": 26,
   "metadata": {},
   "outputs": [
    {
     "name": "stdout",
     "output_type": "stream",
     "text": [
      "Covariance matrix\n"
     ]
    },
    {
     "data": {
      "text/html": [
       "<div>\n",
       "<style scoped>\n",
       "    .dataframe tbody tr th:only-of-type {\n",
       "        vertical-align: middle;\n",
       "    }\n",
       "\n",
       "    .dataframe tbody tr th {\n",
       "        vertical-align: top;\n",
       "    }\n",
       "\n",
       "    .dataframe thead th {\n",
       "        text-align: right;\n",
       "    }\n",
       "</style>\n",
       "<table border=\"1\" class=\"dataframe\">\n",
       "  <thead>\n",
       "    <tr style=\"text-align: right;\">\n",
       "      <th></th>\n",
       "      <th>AMD Close</th>\n",
       "      <th>S&amp;P500 Close</th>\n",
       "    </tr>\n",
       "  </thead>\n",
       "  <tbody>\n",
       "    <tr>\n",
       "      <th>AMD Close</th>\n",
       "      <td>26.908058</td>\n",
       "      <td>745.017195</td>\n",
       "    </tr>\n",
       "    <tr>\n",
       "      <th>S&amp;P500 Close</th>\n",
       "      <td>745.017195</td>\n",
       "      <td>23761.521124</td>\n",
       "    </tr>\n",
       "  </tbody>\n",
       "</table>\n",
       "</div>"
      ],
      "text/plain": [
       "               AMD Close  S&P500 Close\n",
       "AMD Close      26.908058    745.017195\n",
       "S&P500 Close  745.017195  23761.521124"
      ]
     },
     "execution_count": 26,
     "metadata": {},
     "output_type": "execute_result"
    }
   ],
   "source": [
    "print(\"Covariance matrix\")\n",
    "clean.cov()"
   ]
  },
  {
   "cell_type": "markdown",
   "metadata": {},
   "source": [
    "# Visualisation"
   ]
  },
  {
   "cell_type": "markdown",
   "metadata": {},
   "source": [
    "### Distribution of S&P500"
   ]
  },
  {
   "cell_type": "code",
   "execution_count": 45,
   "metadata": {},
   "outputs": [
    {
     "data": {
      "text/plain": [
       "Text(0, 0.5, 'Probability')"
      ]
     },
     "execution_count": 45,
     "metadata": {},
     "output_type": "execute_result"
    },
    {
     "data": {
      "image/png": "[encoded data removed]",
      "text/plain": [
       "<Figure size 432x288 with 1 Axes>"
      ]
     },
     "metadata": {
      "needs_background": "light"
     },
     "output_type": "display_data"
    }
   ],
   "source": [
    "plt.hist(df[\"S&P500 Close\"], density=True, bins=30)\n",
    "plt.ylabel('Probability')"
   ]
  },
  {
   "cell_type": "markdown",
   "metadata": {},
   "source": [
    "S&P500 is relatively left skewed and is leptokurtic"
   ]
  },
  {
   "cell_type": "markdown",
   "metadata": {},
   "source": [
    "### Distribution of AMD"
   ]
  },
  {
   "cell_type": "code",
   "execution_count": 46,
   "metadata": {},
   "outputs": [
    {
     "data": {
      "text/plain": [
       "Text(0, 0.5, 'Probability')"
      ]
     },
     "execution_count": 46,
     "metadata": {},
     "output_type": "execute_result"
    },
    {
     "data": {
      "image/png": "[encoded data removed]",
      "text/plain": [
       "<Figure size 432x288 with 1 Axes>"
      ]
     },
     "metadata": {
      "needs_background": "light"
     },
     "output_type": "display_data"
    }
   ],
   "source": [
    "plt.hist(df[\"AMD Close\"], density=True, bins=30)\n",
    "plt.ylabel('Probability')"
   ]
  },
  {
   "cell_type": "markdown",
   "metadata": {},
   "source": [
    "AMD is relatively symmetrical and is platykurtic"
   ]
  },
  {
   "cell_type": "markdown",
   "metadata": {},
   "source": [
    "### S&P500 vs AMD"
   ]
  },
  {
   "cell_type": "code",
   "execution_count": 27,
   "metadata": {},
   "outputs": [
    {
     "data": {
      "text/plain": [
       "<matplotlib.axes._subplots.AxesSubplot at 0x7f9dc24da668>"
      ]
     },
     "execution_count": 27,
     "metadata": {},
     "output_type": "execute_result"
    },
    {
     "data": {
      "image/png": "[encoded data removed]",
      "text/plain": [
       "<Figure size 432x288 with 1 Axes>"
      ]
     },
     "metadata": {
      "needs_background": "light"
     },
     "output_type": "display_data"
    }
   ],
   "source": [
    "graph = df.plot.scatter(x = \"S&P500 Close\", y = \"AMD Close\")\n",
    "graph"
   ]
  },
  {
   "cell_type": "markdown",
   "metadata": {},
   "source": [
    "By observation, S&P500 and AMD has a relatively strong positive relationship. While its correlation seems to be relatively linear, it does resemble an exponential relationship."
   ]
  },
  {
   "cell_type": "markdown",
   "metadata": {},
   "source": [
    "# Building predictive model"
   ]
  },
  {
   "cell_type": "markdown",
   "metadata": {},
   "source": [
    "### Linear regression model"
   ]
  },
  {
   "cell_type": "code",
   "execution_count": 16,
   "metadata": {},
   "outputs": [
    {
     "name": "stdout",
     "output_type": "stream",
     "text": [
      "Coefficients: [0.03178351]\n",
      "Intercept: -63.1171331594134\n",
      "-----------------------\n",
      "Mean squared error (MSE) on train data: 3.387053379912183\n",
      "Root mean squared error (RMSE) on train data: 1.8403948978173632\n",
      "Coefficient of determination (R^2) on train data: 0.8611241264167792\n",
      "-----------------------\n",
      "Mean squared error (MSE) on test data: 4.1668363348552635\n",
      "Root mean squared error (RMSE) on test data: 2.041283011945003\n",
      "Coefficient of determination (R^2) on test data: 0.8834111246790033\n"
     ]
    }
   ],
   "source": [
    "from sklearn import linear_model\n",
    "from sklearn.model_selection import train_test_split\n",
    "from sklearn import metrics\n",
    "from math import sqrt\n",
    "\n",
    "import matplotlib.pyplot as plt\n",
    "\n",
    "X = df[\"S&P500 Close\"]\n",
    "Y = df[\"AMD Close\"]\n",
    "X_train, X_test, Y_train, Y_test = train_test_split(X, Y, test_size=0.2, random_state=1)\n",
    "\n",
    "regr = linear_model.LinearRegression()\n",
    "regr.fit(X_train[:,None], Y_train)\n",
    "\n",
    "print('Coefficients:', regr.coef_)\n",
    "print('Intercept:', regr.intercept_)\n",
    "\n",
    "print('-----------------------')\n",
    "#stats on training data\n",
    "Y_pred_train = regr.predict(X_train[:,None])\n",
    "mse_train = metrics.mean_squared_error(Y_train, Y_pred_train)\n",
    "R_squared_train = metrics.r2_score(Y_train, Y_pred_train)\n",
    "print('Mean squared error (MSE) on train data:', mse_train)\n",
    "print('Root mean squared error (RMSE) on train data:', sqrt(mse_train)) #Root mean squared error\n",
    "print('Coefficient of determination (R^2) on train data:', R_squared_train)\n",
    "\n",
    "\n",
    "print('-----------------------')\n",
    "#stats on test data\n",
    "Y_pred_test = regr.predict(X_test[:,None])\n",
    "mse_test = metrics.mean_squared_error(Y_test, Y_pred_test) #difference between values predicted and values observed\n",
    "R_squared_test = metrics.r2_score(Y_test, Y_pred_test) #proportion of the variance for a dependent variable that is explained by an independent variable\n",
    "print('Mean squared error (MSE) on test data:', mse_test)\n",
    "print('Root mean squared error (RMSE) on test data:', sqrt(mse_test)) #Root mean squared error\n",
    "print('Coefficient of determination (R^2) on test data:', R_squared_test)"
   ]
  },
  {
   "cell_type": "code",
   "execution_count": 41,
   "metadata": {},
   "outputs": [
    {
     "data": {
      "text/html": [
       "<table class=\"simpletable\">\n",
       "<caption>OLS Regression Results</caption>\n",
       "<tr>\n",
       "  <th>Dep. Variable:</th>        <td>AMD Close</td>    <th>  R-squared:         </th> <td>   0.861</td>\n",
       "</tr>\n",
       "<tr>\n",
       "  <th>Model:</th>                   <td>OLS</td>       <th>  Adj. R-squared:    </th> <td>   0.860</td>\n",
       "</tr>\n",
       "<tr>\n",
       "  <th>Method:</th>             <td>Least Squares</td>  <th>  F-statistic:       </th> <td>   1228.</td>\n",
       "</tr>\n",
       "<tr>\n",
       "  <th>Date:</th>             <td>Sat, 08 Aug 2020</td> <th>  Prob (F-statistic):</th> <td>8.04e-87</td>\n",
       "</tr>\n",
       "<tr>\n",
       "  <th>Time:</th>                 <td>22:57:25</td>     <th>  Log-Likelihood:    </th> <td> -405.78</td>\n",
       "</tr>\n",
       "<tr>\n",
       "  <th>No. Observations:</th>      <td>   200</td>      <th>  AIC:               </th> <td>   815.6</td>\n",
       "</tr>\n",
       "<tr>\n",
       "  <th>Df Residuals:</th>          <td>   198</td>      <th>  BIC:               </th> <td>   822.2</td>\n",
       "</tr>\n",
       "<tr>\n",
       "  <th>Df Model:</th>              <td>     1</td>      <th>                     </th>     <td> </td>   \n",
       "</tr>\n",
       "<tr>\n",
       "  <th>Covariance Type:</th>      <td>nonrobust</td>    <th>                     </th>     <td> </td>   \n",
       "</tr>\n",
       "</table>\n",
       "<table class=\"simpletable\">\n",
       "<tr>\n",
       "        <td></td>          <th>coef</th>     <th>std err</th>      <th>t</th>      <th>P>|t|</th>  <th>[0.025</th>    <th>0.975]</th>  \n",
       "</tr>\n",
       "<tr>\n",
       "  <th>const</th>        <td>  -63.1171</td> <td>    2.604</td> <td>  -24.238</td> <td> 0.000</td> <td>  -68.252</td> <td>  -57.982</td>\n",
       "</tr>\n",
       "<tr>\n",
       "  <th>S&P500 Close</th> <td>    0.0318</td> <td>    0.001</td> <td>   35.039</td> <td> 0.000</td> <td>    0.030</td> <td>    0.034</td>\n",
       "</tr>\n",
       "</table>\n",
       "<table class=\"simpletable\">\n",
       "<tr>\n",
       "  <th>Omnibus:</th>       <td> 9.913</td> <th>  Durbin-Watson:     </th> <td>   2.063</td>\n",
       "</tr>\n",
       "<tr>\n",
       "  <th>Prob(Omnibus):</th> <td> 0.007</td> <th>  Jarque-Bera (JB):  </th> <td>  10.576</td>\n",
       "</tr>\n",
       "<tr>\n",
       "  <th>Skew:</th>          <td> 0.551</td> <th>  Prob(JB):          </th> <td> 0.00505</td>\n",
       "</tr>\n",
       "<tr>\n",
       "  <th>Kurtosis:</th>      <td> 2.767</td> <th>  Cond. No.          </th> <td>5.72e+04</td>\n",
       "</tr>\n",
       "</table><br/><br/>Warnings:<br/>[1] Standard Errors assume that the covariance matrix of the errors is correctly specified.<br/>[2] The condition number is large, 5.72e+04. This might indicate that there are<br/>strong multicollinearity or other numerical problems."
      ],
      "text/plain": [
       "<class 'statsmodels.iolib.summary.Summary'>\n",
       "\"\"\"\n",
       "                            OLS Regression Results                            \n",
       "==============================================================================\n",
       "Dep. Variable:              AMD Close   R-squared:                       0.861\n",
       "Model:                            OLS   Adj. R-squared:                  0.860\n",
       "Method:                 Least Squares   F-statistic:                     1228.\n",
       "Date:                Sat, 08 Aug 2020   Prob (F-statistic):           8.04e-87\n",
       "Time:                        22:57:25   Log-Likelihood:                -405.78\n",
       "No. Observations:                 200   AIC:                             815.6\n",
       "Df Residuals:                     198   BIC:                             822.2\n",
       "Df Model:                           1                                         \n",
       "Covariance Type:            nonrobust                                         \n",
       "================================================================================\n",
       "                   coef    std err          t      P>|t|      [0.025      0.975]\n",
       "--------------------------------------------------------------------------------\n",
       "const          -63.1171      2.604    -24.238      0.000     -68.252     -57.982\n",
       "S&P500 Close     0.0318      0.001     35.039      0.000       0.030       0.034\n",
       "==============================================================================\n",
       "Omnibus:                        9.913   Durbin-Watson:                   2.063\n",
       "Prob(Omnibus):                  0.007   Jarque-Bera (JB):               10.576\n",
       "Skew:                           0.551   Prob(JB):                      0.00505\n",
       "Kurtosis:                       2.767   Cond. No.                     5.72e+04\n",
       "==============================================================================\n",
       "\n",
       "Warnings:\n",
       "[1] Standard Errors assume that the covariance matrix of the errors is correctly specified.\n",
       "[2] The condition number is large, 5.72e+04. This might indicate that there are\n",
       "strong multicollinearity or other numerical problems.\n",
       "\"\"\""
      ]
     },
     "execution_count": 41,
     "metadata": {},
     "output_type": "execute_result"
    }
   ],
   "source": [
    "import statsmodels.api as sm\n",
    "X_train = sm.add_constant(X_train)\n",
    "model = sm.OLS(Y_train, X_train).fit()\n",
    "resid_train = model.resid\n",
    "fitted_train = model.fittedvalues\n",
    "model.summary()"
   ]
  },
  {
   "cell_type": "markdown",
   "metadata": {},
   "source": [
    "Regression equation:\n",
    "\n",
    "AMD = -63.1171 + 0.0318S&P500"
   ]
  },
  {
   "cell_type": "code",
   "execution_count": 34,
   "metadata": {},
   "outputs": [
    {
     "data": {
      "text/html": [
       "<table class=\"simpletable\">\n",
       "<caption>OLS Regression Results</caption>\n",
       "<tr>\n",
       "  <th>Dep. Variable:</th>        <td>AMD Close</td>    <th>  R-squared:         </th> <td>   0.889</td>\n",
       "</tr>\n",
       "<tr>\n",
       "  <th>Model:</th>                   <td>OLS</td>       <th>  Adj. R-squared:    </th> <td>   0.887</td>\n",
       "</tr>\n",
       "<tr>\n",
       "  <th>Method:</th>             <td>Least Squares</td>  <th>  F-statistic:       </th> <td>   392.3</td>\n",
       "</tr>\n",
       "<tr>\n",
       "  <th>Date:</th>             <td>Sat, 08 Aug 2020</td> <th>  Prob (F-statistic):</th> <td>4.92e-25</td>\n",
       "</tr>\n",
       "<tr>\n",
       "  <th>Time:</th>                 <td>22:53:14</td>     <th>  Log-Likelihood:    </th> <td> -107.51</td>\n",
       "</tr>\n",
       "<tr>\n",
       "  <th>No. Observations:</th>      <td>    51</td>      <th>  AIC:               </th> <td>   219.0</td>\n",
       "</tr>\n",
       "<tr>\n",
       "  <th>Df Residuals:</th>          <td>    49</td>      <th>  BIC:               </th> <td>   222.9</td>\n",
       "</tr>\n",
       "<tr>\n",
       "  <th>Df Model:</th>              <td>     1</td>      <th>                     </th>     <td> </td>   \n",
       "</tr>\n",
       "<tr>\n",
       "  <th>Covariance Type:</th>      <td>nonrobust</td>    <th>                     </th>     <td> </td>   \n",
       "</tr>\n",
       "</table>\n",
       "<table class=\"simpletable\">\n",
       "<tr>\n",
       "        <td></td>          <th>coef</th>     <th>std err</th>      <th>t</th>      <th>P>|t|</th>  <th>[0.025</th>    <th>0.975]</th>  \n",
       "</tr>\n",
       "<tr>\n",
       "  <th>const</th>        <td>  -59.5303</td> <td>    4.388</td> <td>  -13.566</td> <td> 0.000</td> <td>  -68.349</td> <td>  -50.712</td>\n",
       "</tr>\n",
       "<tr>\n",
       "  <th>S&P500 Close</th> <td>    0.0307</td> <td>    0.002</td> <td>   19.807</td> <td> 0.000</td> <td>    0.028</td> <td>    0.034</td>\n",
       "</tr>\n",
       "</table>\n",
       "<table class=\"simpletable\">\n",
       "<tr>\n",
       "  <th>Omnibus:</th>       <td> 2.406</td> <th>  Durbin-Watson:     </th> <td>   2.531</td>\n",
       "</tr>\n",
       "<tr>\n",
       "  <th>Prob(Omnibus):</th> <td> 0.300</td> <th>  Jarque-Bera (JB):  </th> <td>   2.271</td>\n",
       "</tr>\n",
       "<tr>\n",
       "  <th>Skew:</th>          <td> 0.494</td> <th>  Prob(JB):          </th> <td>   0.321</td>\n",
       "</tr>\n",
       "<tr>\n",
       "  <th>Kurtosis:</th>      <td> 2.696</td> <th>  Cond. No.          </th> <td>4.37e+04</td>\n",
       "</tr>\n",
       "</table><br/><br/>Warnings:<br/>[1] Standard Errors assume that the covariance matrix of the errors is correctly specified.<br/>[2] The condition number is large, 4.37e+04. This might indicate that there are<br/>strong multicollinearity or other numerical problems."
      ],
      "text/plain": [
       "<class 'statsmodels.iolib.summary.Summary'>\n",
       "\"\"\"\n",
       "                            OLS Regression Results                            \n",
       "==============================================================================\n",
       "Dep. Variable:              AMD Close   R-squared:                       0.889\n",
       "Model:                            OLS   Adj. R-squared:                  0.887\n",
       "Method:                 Least Squares   F-statistic:                     392.3\n",
       "Date:                Sat, 08 Aug 2020   Prob (F-statistic):           4.92e-25\n",
       "Time:                        22:53:14   Log-Likelihood:                -107.51\n",
       "No. Observations:                  51   AIC:                             219.0\n",
       "Df Residuals:                      49   BIC:                             222.9\n",
       "Df Model:                           1                                         \n",
       "Covariance Type:            nonrobust                                         \n",
       "================================================================================\n",
       "                   coef    std err          t      P>|t|      [0.025      0.975]\n",
       "--------------------------------------------------------------------------------\n",
       "const          -59.5303      4.388    -13.566      0.000     -68.349     -50.712\n",
       "S&P500 Close     0.0307      0.002     19.807      0.000       0.028       0.034\n",
       "==============================================================================\n",
       "Omnibus:                        2.406   Durbin-Watson:                   2.531\n",
       "Prob(Omnibus):                  0.300   Jarque-Bera (JB):                2.271\n",
       "Skew:                           0.494   Prob(JB):                        0.321\n",
       "Kurtosis:                       2.696   Cond. No.                     4.37e+04\n",
       "==============================================================================\n",
       "\n",
       "Warnings:\n",
       "[1] Standard Errors assume that the covariance matrix of the errors is correctly specified.\n",
       "[2] The condition number is large, 4.37e+04. This might indicate that there are\n",
       "strong multicollinearity or other numerical problems.\n",
       "\"\"\""
      ]
     },
     "execution_count": 34,
     "metadata": {},
     "output_type": "execute_result"
    }
   ],
   "source": [
    "X_test = sm.add_constant(X_test)\n",
    "model = sm.OLS(Y_test, X_test).fit()\n",
    "model.summary()"
   ]
  },
  {
   "cell_type": "markdown",
   "metadata": {},
   "source": [
    "### Hypothesis testing on model"
   ]
  },
  {
   "cell_type": "markdown",
   "metadata": {},
   "source": [
    "Let level of significance be 0.05\n",
    "\n",
    "Overall significance of model:\n",
    "\n",
    "H0: All coefficients are 0\n",
    "\n",
    "H1: At least one coefficient is not 0\n",
    "\n",
    "F statistic is 392.3, and P(F > 392.3) = 0 < 0.05\n",
    "\n",
    "Thus, we reject null hypothesis and model is considered to be significant"
   ]
  },
  {
   "cell_type": "markdown",
   "metadata": {},
   "source": [
    "### Conclusion of regression statistics"
   ]
  },
  {
   "cell_type": "code",
   "execution_count": 35,
   "metadata": {},
   "outputs": [
    {
     "name": "stdout",
     "output_type": "stream",
     "text": [
      "88% of total variation in Y test is explained by variation in X\n",
      "Test RMS is slightly bigger than train RMS.\n",
      "Able to generalise.\n"
     ]
    }
   ],
   "source": [
    "print(\"88% of total variation in Y test is explained by variation in X\")\n",
    "print(\"Test RMS is slightly bigger than train RMS.\")\n",
    "print(\"Able to generalise.\")"
   ]
  },
  {
   "cell_type": "markdown",
   "metadata": {},
   "source": [
    "### Visualising regression model"
   ]
  },
  {
   "cell_type": "code",
   "execution_count": 36,
   "metadata": {},
   "outputs": [
    {
     "data": {
      "image/png": "[encoded data removed]",
      "text/plain": [
       "<Figure size 432x288 with 1 Axes>"
      ]
     },
     "metadata": {
      "needs_background": "light"
     },
     "output_type": "display_data"
    }
   ],
   "source": [
    "plt.scatter(X_test[\"S&P500 Close\"], Y_test,  color='black')\n",
    "plt.plot(X_test[\"S&P500 Close\"], Y_pred_test, color='blue', linewidth=3)\n",
    "plt.show()"
   ]
  },
  {
   "cell_type": "markdown",
   "metadata": {},
   "source": [
    "# Residual analysis"
   ]
  },
  {
   "cell_type": "markdown",
   "metadata": {},
   "source": [
    "### Find residuals"
   ]
  },
  {
   "cell_type": "code",
   "execution_count": 37,
   "metadata": {},
   "outputs": [],
   "source": [
    "Y_pred = regr.predict(X[:,None])\n",
    "residual = df[\"AMD Close\"] - Y_pred"
   ]
  },
  {
   "cell_type": "markdown",
   "metadata": {},
   "source": [
    "### Visualise residuals"
   ]
  },
  {
   "cell_type": "code",
   "execution_count": 42,
   "metadata": {},
   "outputs": [
    {
     "data": {
      "image/png": "[encoded data removed]",
      "text/plain": [
       "<Figure size 432x288 with 1 Axes>"
      ]
     },
     "metadata": {
      "needs_background": "light"
     },
     "output_type": "display_data"
    }
   ],
   "source": [
    "import seaborn as sns\n",
    "fig, ax= plt.subplots()\n",
    "sns.regplot(fitted_train, resid_train, lowess=True, ax=ax, scatter_kws={'s': 35, 'alpha': .6})\n",
    "ax.set_xlabel('Fitted',  {'fontsize': 12})\n",
    "ax.set_ylabel('Residuals', {'fontsize': 12})\n",
    "ax.set_title('Linear - Residuals vs Fitted')\n",
    "plt.axhline(color='Black', alpha=0.3, linestyle='--')  \n",
    "plt.show()"
   ]
  },
  {
   "cell_type": "markdown",
   "metadata": {},
   "source": [
    "### Histogram of residual"
   ]
  },
  {
   "cell_type": "code",
   "execution_count": 22,
   "metadata": {},
   "outputs": [
    {
     "name": "stdout",
     "output_type": "stream",
     "text": [
      "Mean:  0.0801880442881674\n",
      "Median:  -0.2924046168060137\n",
      "Right skewed\n"
     ]
    },
    {
     "data": {
      "text/plain": [
       "Text(0, 0.5, 'Probability')"
      ]
     },
     "execution_count": 22,
     "metadata": {},
     "output_type": "execute_result"
    },
    {
     "data": {
      "image/png": "[encoded data removed]",
      "text/plain": [
       "<Figure size 432x288 with 1 Axes>"
      ]
     },
     "metadata": {
      "needs_background": "light"
     },
     "output_type": "display_data"
    }
   ],
   "source": [
    "plt.hist(residual, density=True, bins=30)\n",
    "print(\"Mean: \", residual.mean())\n",
    "print(\"Median: \", residual.median())\n",
    "print(\"Right skewed\")\n",
    "plt.ylabel('Probability')"
   ]
  },
  {
   "cell_type": "markdown",
   "metadata": {},
   "source": [
    "### Assessment on goodness of fit"
   ]
  },
  {
   "cell_type": "markdown",
   "metadata": {},
   "source": [
    "1. Linearity: Since S&P500 is comprised of multiple companies including AMD, it is safe to assume that the population model is linear\n",
    "2. Exogeneity: Upon viewing residual vs fitted values plot, expected value of residual does not approximate to zero, thus, exogenity is not satisfied\n",
    "3. Independence: Since market sentiment may be impacted by previous performance, each data pair of S&P500 and AMD can be correlated to eachother, thus, this data may not be independently and identically distributed\n",
    "4. Finite 4th moment: Since AMD and S&P500 is bounded by natural boundaries such as liquidity in market, there is a finite 4th moment\n",
    "5. Constant error variance: This holds true for values between 20 and 35, where residuals are randomly scattered.\n",
    "\n",
    "Overall, least squares assumptions are not fully satisfied."
   ]
  },
  {
   "cell_type": "markdown",
   "metadata": {},
   "source": [
    "# Conclusion"
   ]
  },
  {
   "cell_type": "markdown",
   "metadata": {},
   "source": [
    "Overall, upon analysing its correlation, S&P500 and AMD possesses strong positive linear relationship. While the linear regression model demonstrates excellent generalisability, its goodness of fit is not fully satisfied, suggesting new data transformation (log transformation) and different types of modelling (logarithmic regression models) are required to capture its true relationship. Thus, S&P500 and AMD can be considered to be highly correlated to eachother."
   ]
  },
  {
   "cell_type": "code",
   "execution_count": null,
   "metadata": {},
   "outputs": [],
   "source": []
  }
 ],
 "metadata": {
  "kernelspec": {
   "display_name": "Python 3",
   "language": "python",
   "name": "python3"
  },
  "language_info": {
   "codemirror_mode": {
    "name": "ipython",
    "version": 3
   },
   "file_extension": ".py",
   "mimetype": "text/x-python",
   "name": "python",
   "nbconvert_exporter": "python",
   "pygments_lexer": "ipython3",
   "version": "3.7.3"
  }
 },
 "nbformat": 4,
 "nbformat_minor": 2
}
